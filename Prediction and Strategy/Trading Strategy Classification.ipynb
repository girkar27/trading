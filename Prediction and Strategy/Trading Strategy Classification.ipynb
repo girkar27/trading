{
 "cells": [
  {
   "cell_type": "markdown",
   "metadata": {},
   "source": [
    "# Notebook Instructions\n",
    "\n",
    "1. All the <u>code and data files</u> used in this course are available in the downloadable unit of the <u>last section of this course</u>.\n",
    "2. You can run the notebook document sequentially (one cell at a time) by pressing **shift + enter**. \n",
    "3. While a cell is running, a [*] is shown on the left. After the cell is run, the output will appear on the next line.\n",
    "\n",
    "This course is based on specific versions of Python packages. You can find the details of the packages in <a href='https://quantra.quantinsti.com/quantra-notebook' target=\"_blank\" >this manual</a>."
   ]
  },
  {
   "cell_type": "markdown",
   "metadata": {},
   "source": [
    "## Trading Strategy Using Classification: SVM\n",
    "\n",
    "The key steps involved in creating the strategy are:\n",
    "1. Read data\n",
    "2. Create indicators\n",
    "3. Calculate returns\n",
    "4. Train and test data\n",
    "5. Create output signals\n",
    "6. Find the best parameters\n",
    "7. Create the support vector machine\n",
    "8. Predict the signals\n",
    "9. Analyse the performance\n",
    "10. Plot the results"
   ]
  },
  {
   "cell_type": "markdown",
   "metadata": {},
   "source": [
    "### Import libraries\n",
    "\n",
    "We will import the necessary libraries for the strategy. These machine learning modules imported from the sklearn library are discussed in more detail in the technical references document in section 1 of this course."
   ]
  },
  {
   "cell_type": "code",
   "execution_count": 1,
   "metadata": {},
   "outputs": [],
   "source": [
    "# Data manipulation libraries\n",
    "import pandas as pd\n",
    "import numpy as np\n",
    "\n",
    "# Machine learning libraries\n",
    "from sklearn.svm import SVC\n",
    "from sklearn.preprocessing import StandardScaler\n",
    "from sklearn.model_selection import RandomizedSearchCV\n",
    "from sklearn.model_selection import TimeSeriesSplit\n",
    "from sklearn.pipeline import Pipeline\n",
    "from sklearn.metrics import confusion_matrix\n",
    "from sklearn.metrics import classification_report\n",
    "\n",
    "# Technical indicator library\n",
    "import talib as ta\n",
    "\n",
    "# Plotting libraries\n",
    "import matplotlib.pyplot as plt\n",
    "import seaborn as sns\n",
    "from matplotlib.dates import DateFormatter\n",
    "import matplotlib.dates as mdates\n",
    "\n",
    "# Ignore warnings\n",
    "import warnings\n",
    "warnings.filterwarnings(\"ignore\")"
   ]
  },
  {
   "cell_type": "markdown",
   "metadata": {},
   "source": [
    "## Read data\n",
    "\n",
    "The 1-minute OHLCV data for the ICICI bank futures required for backtesting is saved in a CSV file. We have used two days data from 22nd of Feb 2018 to 23rd of Feb 2018.\n",
    "\n",
    "To read a CSV file, you can use `pandas.read_csv()`.\n",
    "\n",
    "Syntax: \n",
    "```python\n",
    "import pandas as pd\n",
    "pd.read_csv(filename)\n",
    "```\n",
    "filename: Name of the file in the string format.\n",
    "\n",
    "You can download this data from the last unit of this course '**Python Codes and Data**'."
   ]
  },
  {
   "cell_type": "code",
   "execution_count": 2,
   "metadata": {},
   "outputs": [
    {
     "data": {
      "text/html": [
       "<div>\n",
       "<style scoped>\n",
       "    .dataframe tbody tr th:only-of-type {\n",
       "        vertical-align: middle;\n",
       "    }\n",
       "\n",
       "    .dataframe tbody tr th {\n",
       "        vertical-align: top;\n",
       "    }\n",
       "\n",
       "    .dataframe thead th {\n",
       "        text-align: right;\n",
       "    }\n",
       "</style>\n",
       "<table border=\"1\" class=\"dataframe\">\n",
       "  <thead>\n",
       "    <tr style=\"text-align: right;\">\n",
       "      <th></th>\n",
       "      <th>Time</th>\n",
       "      <th>Open</th>\n",
       "      <th>High</th>\n",
       "      <th>Low</th>\n",
       "      <th>Close</th>\n",
       "      <th>Volume</th>\n",
       "    </tr>\n",
       "  </thead>\n",
       "  <tbody>\n",
       "    <tr>\n",
       "      <th>0</th>\n",
       "      <td>22-02-2018 09:15:59</td>\n",
       "      <td>319.25</td>\n",
       "      <td>319.40</td>\n",
       "      <td>316.05</td>\n",
       "      <td>317.70</td>\n",
       "      <td>143354</td>\n",
       "    </tr>\n",
       "    <tr>\n",
       "      <th>1</th>\n",
       "      <td>22-02-2018 09:16:59</td>\n",
       "      <td>317.70</td>\n",
       "      <td>318.20</td>\n",
       "      <td>317.70</td>\n",
       "      <td>318.00</td>\n",
       "      <td>52695</td>\n",
       "    </tr>\n",
       "    <tr>\n",
       "      <th>2</th>\n",
       "      <td>22-02-2018 09:17:59</td>\n",
       "      <td>318.00</td>\n",
       "      <td>318.85</td>\n",
       "      <td>318.00</td>\n",
       "      <td>318.55</td>\n",
       "      <td>47179</td>\n",
       "    </tr>\n",
       "    <tr>\n",
       "      <th>3</th>\n",
       "      <td>22-02-2018 09:18:59</td>\n",
       "      <td>318.65</td>\n",
       "      <td>319.40</td>\n",
       "      <td>318.50</td>\n",
       "      <td>319.20</td>\n",
       "      <td>44745</td>\n",
       "    </tr>\n",
       "    <tr>\n",
       "      <th>4</th>\n",
       "      <td>22-02-2018 09:19:59</td>\n",
       "      <td>319.30</td>\n",
       "      <td>319.85</td>\n",
       "      <td>319.20</td>\n",
       "      <td>319.65</td>\n",
       "      <td>57892</td>\n",
       "    </tr>\n",
       "  </tbody>\n",
       "</table>\n",
       "</div>"
      ],
      "text/plain": [
       "                  Time    Open    High     Low   Close  Volume\n",
       "0  22-02-2018 09:15:59  319.25  319.40  316.05  317.70  143354\n",
       "1  22-02-2018 09:16:59  317.70  318.20  317.70  318.00   52695\n",
       "2  22-02-2018 09:17:59  318.00  318.85  318.00  318.55   47179\n",
       "3  22-02-2018 09:18:59  318.65  319.40  318.50  319.20   44745\n",
       "4  22-02-2018 09:19:59  319.30  319.85  319.20  319.65   57892"
      ]
     },
     "execution_count": 2,
     "metadata": {},
     "output_type": "execute_result"
    }
   ],
   "source": [
    "# Read the data\n",
    "Df = pd.read_csv('../data_modules/ICICI Minute Data.csv')\n",
    "Df.head()"
   ]
  },
  {
   "cell_type": "markdown",
   "metadata": {},
   "source": [
    "Drop all rows which have no traded volume. This is needed to avoid training on low liquidity moves. Alternatively, you can drop all those rows where volume is less than some value of your choice."
   ]
  },
  {
   "cell_type": "code",
   "execution_count": 3,
   "metadata": {},
   "outputs": [],
   "source": [
    "# Drop the rows with zero volume traded\n",
    "Df = Df.drop(Df[Df['Volume'] == 0].index)"
   ]
  },
  {
   "cell_type": "markdown",
   "metadata": {},
   "source": [
    "Now, change the `Time` column to a `datetime` format. This is done so that you can check for the market closing time later in the code and square off any open positions before the market closes."
   ]
  },
  {
   "cell_type": "code",
   "execution_count": 4,
   "metadata": {},
   "outputs": [],
   "source": [
    "# Convert the 'Time' column into pandas datetime format\n",
    "Df['Time'] = pd.to_datetime(Df['Time'])\n",
    "\n",
    "# Set the Time column as index\n",
    "Df.set_index('Time', inplace=True)"
   ]
  },
  {
   "cell_type": "markdown",
   "metadata": {},
   "source": [
    "## Create indicators\n",
    "\n",
    "Next, you decide the time period for which you need to calculate the indicators. For this, you chose a variable `n` with a value of 10 (minutes). This is something you can change as per your choice.\n",
    "\n",
    "You will be creating all the indicators for the same time period. "
   ]
  },
  {
   "cell_type": "code",
   "execution_count": 5,
   "metadata": {},
   "outputs": [],
   "source": [
    "# Create a variable n with a value of 10\n",
    "n = 10"
   ]
  },
  {
   "cell_type": "markdown",
   "metadata": {},
   "source": [
    "Next, you will create RSI and some other indicators. These indicators have been discussed in more detail in the technical references document in section 1 of this course."
   ]
  },
  {
   "cell_type": "markdown",
   "metadata": {},
   "source": [
    "### Calculate RSI\n",
    "The RSI calculation contains two parts. \n",
    "1. First, the `Close` prices column is shifted down by a single time interval, one minute, in this case.\n",
    "2. Secondly, `timeperiod` is chosen as `n`, which you have defined earlier as `10` minutes. \n",
    "\n",
    "So if you are calculating RSI for 't' minute, you will use Closing prices of 't-10', 't-9', …'t-1' minutes. "
   ]
  },
  {
   "cell_type": "code",
   "execution_count": 6,
   "metadata": {},
   "outputs": [],
   "source": [
    "# Create a column by name, RSI and assign the calculation of RSI to it\n",
    "Df['RSI'] = ta.RSI(np.array(Df['Close'].shift(1)), timeperiod=n)"
   ]
  },
  {
   "cell_type": "markdown",
   "metadata": {},
   "source": [
    "### Calculate SMA and correlation coefficient\n",
    "\n",
    "Simple Moving Average is calculated using the `rolling` method of pandas with a window of `n` minutes.\n",
    "\n",
    "The correlation coefficient is calculated between the `Close` prices and Simple Moving Average with a window of `n` minutes."
   ]
  },
  {
   "cell_type": "code",
   "execution_count": 7,
   "metadata": {},
   "outputs": [],
   "source": [
    "# Create a column by name, SMA and assign the SMA calculation to it\n",
    "Df['SMA'] = Df['Close'].shift(1).rolling(window=n).mean()\n",
    "\n",
    "# Create a column by name, Corr and assign the calculation of correlation to it\n",
    "Df['Corr'] = Df['Close'].shift(1).rolling(window=n).corr(Df['SMA'].shift(1))"
   ]
  },
  {
   "cell_type": "markdown",
   "metadata": {},
   "source": [
    "### Calculate SAR and ADX\n",
    "\n",
    "SAR and ADX are calculated on `High` and `Low` prices because they are intended to be sensitive to new Highs and Lows created. In the SAR indicator, the values of `0.2` represent the acceleration and maximum step parameters. "
   ]
  },
  {
   "cell_type": "code",
   "execution_count": 8,
   "metadata": {},
   "outputs": [],
   "source": [
    "# Create a column by name, SAR and assign the SAR calculation to it\n",
    "Df['SAR'] = ta.SAR(np.array(Df['High'].shift(1)), np.array(Df['Low'].shift(1)),\n",
    "                   0.2, 0.2)\n",
    "\n",
    "# Create a column by name, ADX and assign the ADX calculation to it\n",
    "Df['ADX'] = ta.ADX(np.array(Df['High'].shift(1)), np.array(Df['Low'].shift(1)),\n",
    "                   np.array(Df['Open']), timeperiod=n)"
   ]
  },
  {
   "cell_type": "markdown",
   "metadata": {},
   "source": [
    "### Previous minute's OHLC\n",
    "We will pass the previous minute's `High`, `Low`, and `Open` prices as input to the algorithm. This will help the algorithm sense the volatility of the past time period."
   ]
  },
  {
   "cell_type": "code",
   "execution_count": 9,
   "metadata": {},
   "outputs": [],
   "source": [
    "# Create columns high, low and close with previous minute's OHLC data\n",
    "Df['Prev_High'] = Df['High'].shift(1)\n",
    "Df['Prev_Low'] = Df['Low'].shift(1)\n",
    "Df['Prev_Close'] = Df['Close'].shift(1)"
   ]
  },
  {
   "cell_type": "markdown",
   "metadata": {},
   "source": [
    "We will also create two more columns as features: the change in `Open` prices between last minute and current minute & the difference between current minute's `Open` and last minute's `Close` prices."
   ]
  },
  {
   "cell_type": "code",
   "execution_count": 10,
   "metadata": {},
   "outputs": [],
   "source": [
    "# Create columns 'OO' with the difference between the current minute's open and last minute's open\n",
    "Df['OO'] = Df['Open']-Df['Open'].shift(1)\n",
    "\n",
    "# Create columns 'OC' with the difference between the current minute's open and last minute's close\n",
    "Df['OC'] = Df['Open']-Df['Prev_Close']"
   ]
  },
  {
   "cell_type": "markdown",
   "metadata": {},
   "source": [
    "## Calculate returns\n",
    "Next, calculate the returns for every data point. We also save returns of past n minutes in n columns named as return1, return2 and so on. This will help the algorithm to understand the trend of the returns in the last n periods.  "
   ]
  },
  {
   "cell_type": "code",
   "execution_count": 11,
   "metadata": {},
   "outputs": [],
   "source": [
    "# Create a column 'Fut_Ret' with the calculation of returns\n",
    "Df['Fut_Ret'] = (Df['Open'].shift(-1)-Df['Open'])/Df['Open']\n",
    "\n",
    "# Create n columns and assign\n",
    "for i in range(1, n):\n",
    "    Df['return%i' % i] = Df['Fut_Ret'].shift(i)"
   ]
  },
  {
   "cell_type": "markdown",
   "metadata": {},
   "source": [
    "### Trim the data\n",
    "\n",
    "You need to keep the values of indicator `Corr` between -1 and 1, as the correlation coefficient is always between these values. This is done by changing all values less than -1 to -1, and all values greater than 1 to 1.\n",
    "\n",
    "This doesn't affect our calculations negatively because the extreme values are realised due to NaN values in the data, which need to be handled before training the algorithm. Then we drop all NaNs from the entire dataframe."
   ]
  },
  {
   "cell_type": "code",
   "execution_count": 12,
   "metadata": {},
   "outputs": [],
   "source": [
    "# Change the value of 'Corr' to -1 if it is less than -1\n",
    "Df.loc[Df['Corr'] < -1, 'Corr'] = -1\n",
    "\n",
    "# Change the value of 'Corr' to 1 if it is greater than 1\n",
    "Df.loc[Df['Corr'] > 1, 'Corr'] = 1\n",
    "\n",
    "# Drop the NaN values\n",
    "Df = Df.dropna()"
   ]
  },
  {
   "cell_type": "markdown",
   "metadata": {},
   "source": [
    "## Train and test data\n",
    "\n",
    "We will be using 80% of the data to train and the rest 20% to test. You will create a split parameter that will divide the dataframe in an 80-20 ratio.\n",
    "\n",
    "This can be changed as per your choice, but it is advisable to give at least 70% data as train data for good results. "
   ]
  },
  {
   "cell_type": "code",
   "execution_count": 13,
   "metadata": {},
   "outputs": [
    {
     "data": {
      "text/plain": [
       "583"
      ]
     },
     "execution_count": 13,
     "metadata": {},
     "output_type": "execute_result"
    }
   ],
   "source": [
    "# Create a variable split that stores 80% of the length of the dataframe\n",
    "t = .8\n",
    "split = int(t*len(Df))\n",
    "split"
   ]
  },
  {
   "cell_type": "markdown",
   "metadata": {},
   "source": [
    "## Create output signals\n",
    "\n",
    "Next, assign signal values corresponding to returns that were calculated earlier. To do this, you will split the data into three equal parts.\n",
    "\n",
    "1. Highest returns’ quantile is assigned `Signal` 1 or Buy.\n",
    "2. Middle quantile is assigned `Signal` 0 or do nothing.\n",
    "3. Lowest quantile is assigned `Signal` -1 or Sell. "
   ]
  },
  {
   "cell_type": "code",
   "execution_count": 14,
   "metadata": {},
   "outputs": [],
   "source": [
    "# Create a column by name, 'Signal' and initialize with 0\n",
    "Df['Signal'] = 0\n",
    "\n",
    "# Assign a value of 1 to 'Signal' column for the quantile with the highest returns\n",
    "Df.loc[Df['Fut_Ret'] > Df['Fut_Ret'][:split].quantile(q=0.66), 'Signal'] = 1\n",
    "\n",
    "# Assign a value of -1 to 'Signal' column for the quantile with the lowest returns\n",
    "Df.loc[Df['Fut_Ret'] < Df['Fut_Ret'][:split].quantile(q=0.34), 'Signal'] = -1"
   ]
  },
  {
   "cell_type": "markdown",
   "metadata": {},
   "source": [
    "It is an intraday strategy that requires squaring off all the positions at the end of the day. To do this, at the closing time, you will assign the `Signal` and `Fut_Ret` columns as 0.\n",
    "\n",
    "Since you are working with the data from an Indian stock, where the closing time is 1530 hours, you will assign `Signal` and `Fut_Ret` as 0 for times at 1529 hours.\n",
    "\n",
    "For data from other exchanges, this needs to be changed according to the exchange's close time. If your data has entries after closing time, then the `Signal` and `Fut_Ret` values for such rows need to be changed to '0' as well. "
   ]
  },
  {
   "cell_type": "code",
   "execution_count": 15,
   "metadata": {},
   "outputs": [],
   "source": [
    "# Assign a value of 0 to 'Signal' column at 1529 time\n",
    "Df.loc[(Df.index.hour == 15) & (Df.index.minute == 29), 'Signal'] = 0\n",
    "\n",
    "# Assign a value of 0 to 'Fut_Ret' column at 1529 time\n",
    "Df.loc[(Df.index.hour == 15) & (Df.index.minute == 29), 'Fut_Ret'] = 0"
   ]
  },
  {
   "cell_type": "markdown",
   "metadata": {},
   "source": [
    "One last step and then we will be ready with our data!  \n",
    "\n",
    "### Creating the features and values\n",
    "\n",
    "Drop the columns `Close`, `Signal`, `Time`, `High`, `Low`, `Volume`, and `Fut_Ret` since the algorithm will not be trained on these features. Next, we assign `Signal` to `y` which is the output variable that you will predict using test data.   "
   ]
  },
  {
   "cell_type": "code",
   "execution_count": 16,
   "metadata": {},
   "outputs": [],
   "source": [
    "# Use drop method to drop the columns\n",
    "X = Df.drop(['Close', 'Signal', 'High',\n",
    "             'Low', 'Volume', 'Fut_Ret'], axis=1)\n",
    "\n",
    "# Create a variable which contains all the 'Signal' values\n",
    "y = Df['Signal']"
   ]
  },
  {
   "cell_type": "markdown",
   "metadata": {},
   "source": [
    "## Find the best parameters\n",
    "\n",
    "### Pipeline and functions\n",
    "\n",
    "As the first step to finding the best hyperparameters among C, Gamma and Kernel, you will first create a pipeline of functions required to run in a specific order on the training data. \n",
    "\n",
    "The `steps` contains references to functions applied to the data when called through a pipeline function. In this case, you will scale the data first and then fit it to the SVC function. This is done to avoid the effect of the individual weights of the features."
   ]
  },
  {
   "cell_type": "code",
   "execution_count": 17,
   "metadata": {},
   "outputs": [],
   "source": [
    "# Create the 'steps' variable with the pipeline functions\n",
    "steps = [('scaler', StandardScaler()), ('svc', SVC())]\n",
    "\n",
    "# Pass the 'steps' to the Pipeline function\n",
    "pipeline = Pipeline(steps)"
   ]
  },
  {
   "cell_type": "markdown",
   "metadata": {},
   "source": [
    "### Hyperparameters\n",
    "\n",
    "The hyperparameters are iterated over to arrive at the best possible combination for the given training data. These test values can be changed as per your choice. Here, you will choose 4 test values for `c` and 3 test values for `g`.  "
   ]
  },
  {
   "cell_type": "code",
   "execution_count": 18,
   "metadata": {},
   "outputs": [],
   "source": [
    "# Test variables for 'c' and 'g'\n",
    "c = [10, 100, 1000, 10000]\n",
    "g = [1e-2, 1e-1, 1e0]"
   ]
  },
  {
   "cell_type": "markdown",
   "metadata": {},
   "source": [
    "The `rbf` is used as a singular entry in the kernel parameters. But you can go ahead and try other kernel functions, such as linear, poly and sigmoid.\n",
    "\n",
    "<b>Do remember:</b> A higher number of parameters would result in a greater time for the code to run. "
   ]
  },
  {
   "cell_type": "code",
   "execution_count": 19,
   "metadata": {},
   "outputs": [],
   "source": [
    "# Intialise the parameters\n",
    "parameters = {'svc__C': c,\n",
    "              'svc__gamma': g,\n",
    "              'svc__kernel': ['rbf']\n",
    "              }"
   ]
  },
  {
   "cell_type": "markdown",
   "metadata": {},
   "source": [
    "Next, you need to create a `RandomizedSearchCV` function with a `TimeSeriesSplit` object with a `n_split` value of `2`. This value can be anything more than or equal to 2. The `TimeSeriesSplit` is used to sequentially split a time series. Then `RandomizedSearchCV` arrives at the scores of different random combinations of the hyperparameters.\n",
    "\n",
    "These scores would be used to find the best parameters and create a newly optimized support vector classifier. Alternatively, you can use a GridSearch here. "
   ]
  },
  {
   "cell_type": "code",
   "execution_count": 20,
   "metadata": {},
   "outputs": [],
   "source": [
    "# Call the RandomizedSearchCV function and pass the parameters\n",
    "rcv = RandomizedSearchCV(pipeline, parameters, cv=TimeSeriesSplit(n_splits=2))"
   ]
  },
  {
   "cell_type": "markdown",
   "metadata": {},
   "source": [
    "### Training on and fetching the best parameters\n",
    "             \n",
    "Next, you need to fit the train data to `rcv` created above to obtain the best hyperparameters. The best parameters can be obtained using the `best_params_` method."
   ]
  },
  {
   "cell_type": "code",
   "execution_count": 21,
   "metadata": {},
   "outputs": [],
   "source": [
    "# Call the 'fit' method of rcv and pass the train data to it\n",
    "rcv.fit(X.iloc[:split], y.iloc[:split])\n",
    "\n",
    "# Call the 'best_params_' method to obtain the best parameters of C\n",
    "best_C = rcv.best_params_['svc__C']\n",
    "\n",
    "# Call the 'best_params_' method to obtain the best parameters of kernel\n",
    "best_kernel = rcv.best_params_['svc__kernel']\n",
    "\n",
    "# Call the 'best_params_' method to obtain the best parameters of gamma\n",
    "best_gamma = rcv.best_params_['svc__gamma']"
   ]
  },
  {
   "cell_type": "markdown",
   "metadata": {},
   "source": [
    "## Create the Support Vector Machine\n",
    "\n",
    "### Create the new SVC\n",
    "\n",
    "In this line of code, we instantiate a new support vector classifier function with the best hyperparameters."
   ]
  },
  {
   "cell_type": "code",
   "execution_count": 22,
   "metadata": {},
   "outputs": [],
   "source": [
    "# Create a new SVC classifier\n",
    "cls = SVC(C=best_C, kernel=best_kernel, gamma=best_gamma)"
   ]
  },
  {
   "cell_type": "markdown",
   "metadata": {},
   "source": [
    "### Train the data\n",
    "\n",
    "As done previously, for finding the best hyperparameters, you will first scale the data before you fit it to the classifier to train on. To do this, you need to instantiate the `StandardScaler` function."
   ]
  },
  {
   "cell_type": "code",
   "execution_count": 23,
   "metadata": {},
   "outputs": [],
   "source": [
    "# Instantiate the StandardScaler\n",
    "ss1 = StandardScaler()"
   ]
  },
  {
   "cell_type": "markdown",
   "metadata": {},
   "source": [
    "You will use the scaled training data to train the classifier algorithm."
   ]
  },
  {
   "cell_type": "code",
   "execution_count": 24,
   "metadata": {
    "scrolled": true
   },
   "outputs": [
    {
     "data": {
      "text/plain": [
       "SVC(C=10000, gamma=0.01)"
      ]
     },
     "execution_count": 24,
     "metadata": {},
     "output_type": "execute_result"
    }
   ],
   "source": [
    "# Pass the scaled train data to the SVC classifier\n",
    "cls.fit(ss1.fit_transform(X.iloc[:split]), y.iloc[:split])"
   ]
  },
  {
   "cell_type": "markdown",
   "metadata": {},
   "source": [
    "Congratulations, your prediction model is ready!"
   ]
  },
  {
   "cell_type": "markdown",
   "metadata": {},
   "source": [
    "## Predict the signals\n",
    "\n",
    "Now, you can use the test data to make predictions and save the output in a list called `y_predict`. This list will have the predicted values of signals for the test data.  "
   ]
  },
  {
   "cell_type": "code",
   "execution_count": 25,
   "metadata": {},
   "outputs": [],
   "source": [
    "# Pass the test data to the predict function and store the values into 'y_predict'\n",
    "y_predict = cls.predict(ss1.transform(X.iloc[split:]))\n",
    "\n",
    "# Initiate a column by name, 'Pred_Signal' and assign 0 to it\n",
    "Df['Pred_Signal'] = 0"
   ]
  },
  {
   "cell_type": "markdown",
   "metadata": {},
   "source": [
    "### Save the predictions\n",
    "\n",
    "1. To save predicted y values of test data, we can assign `y_predict` to `Pred_Signal` using the split.\n",
    "2. To save predicted y values for train data, we make predictions for train data and save it similarly."
   ]
  },
  {
   "cell_type": "code",
   "execution_count": 26,
   "metadata": {},
   "outputs": [],
   "source": [
    "# Save the predicted values for the train data\n",
    "Df.iloc[:split, Df.columns.get_loc('Pred_Signal')] = pd.Series(\n",
    "    cls.predict(ss1.transform(X.iloc[:split])).tolist())\n",
    "\n",
    "# Save the predicted values for the test data\n",
    "Df.iloc[split:, Df.columns.get_loc('Pred_Signal')] = y_predict"
   ]
  },
  {
   "cell_type": "markdown",
   "metadata": {},
   "source": [
    "Since the algorithm was trained on the train data, its accuracy is expected to be better on this train data than the test data. You can print these two separately to check the accuracies. (TRY ON YOUR OWN!)"
   ]
  },
  {
   "cell_type": "markdown",
   "metadata": {},
   "source": [
    "## Use the model for trading strategy \n",
    "\n",
    "### Trading strategy \n",
    "        \n",
    "Our trading strategy is to buy/sell/do nothing at that period for which the algorithm generates the signal. The strategy assumes that you always get a fill at the open prices. "
   ]
  },
  {
   "cell_type": "code",
   "execution_count": 27,
   "metadata": {},
   "outputs": [],
   "source": [
    "# Calculate strategy returns and store them in 'Ret1' column\n",
    "Df['Ret1'] = Df['Fut_Ret']*Df['Pred_Signal']"
   ]
  },
  {
   "cell_type": "markdown",
   "metadata": {},
   "source": [
    "## Analyse the performance\n",
    "\n",
    "Please note that here you are using only the test data to compare the performance of the strategy. You can pass the entire 'Ret1' column and check the performance on both the test and train data if you wish to.\n",
    "\n",
    "The confusion matrix is a table layout that allows visualisation of the performance of a supervised learning algorithm. Each row of the matrix represents the instances in a predicted class, while each column represents the instances in an actual class (or vice versa). The name stems from the fact that it makes it easy to see if the system is confusing two classes (i.e. commonly mislabeling one as another). [Additional Reading on Confusion Matrix](https://en.wikipedia.org/wiki/Confusion_matrix)"
   ]
  },
  {
   "cell_type": "code",
   "execution_count": 28,
   "metadata": {},
   "outputs": [
    {
     "data": {
      "text/plain": [
       "array([[22, 15,  1],\n",
       "       [27, 22, 17],\n",
       "       [15, 10, 17]])"
      ]
     },
     "execution_count": 28,
     "metadata": {},
     "output_type": "execute_result"
    }
   ],
   "source": [
    "# Calculate the confusion matrix\n",
    "cm = confusion_matrix(y[split:], y_predict)\n",
    "cm"
   ]
  },
  {
   "cell_type": "code",
   "execution_count": 29,
   "metadata": {},
   "outputs": [
    {
     "data": {
      "image/png": "[encoded data removed]",
      "text/plain": [
       "<Figure size 432x288 with 2 Axes>"
      ]
     },
     "metadata": {
      "needs_background": "light"
     },
     "output_type": "display_data"
    }
   ],
   "source": [
    "# Set the font sizes\n",
    "plt.title('Confusion Matrix', fontsize=16)\n",
    "plt.xlabel('Predicted labels', fontsize=14)\n",
    "plt.ylabel('True labels', fontsize=14)\n",
    "plt.xticks(fontsize=14)\n",
    "plt.yticks(fontsize=14)\n",
    "plt.rcParams.update({'font.size': 14})\n",
    "\n",
    "# Plot the confusion matrix\n",
    "ax = plt.subplot()\n",
    "sns.heatmap(cm, annot=True, ax=ax)\n",
    "\n",
    "# Set the axis labels\n",
    "ax.xaxis.set_ticklabels(['-1', '0', '1'])\n",
    "ax.yaxis.set_ticklabels(['-1', '0', '1'])\n",
    "plt.show()"
   ]
  },
  {
   "cell_type": "markdown",
   "metadata": {},
   "source": [
    "From the confusion matrix, we can see how the model correctly predicted:\n",
    "* 22/38 instances of class -1\n",
    "* 22/66 instances of class 0\n",
    "* 17/42 instances of class 1."
   ]
  },
  {
   "cell_type": "markdown",
   "metadata": {},
   "source": [
    "## Classification Report\n",
    "The classification report computes `precision`, `recall`, `F-measure` and `support` for each class.\n",
    "\n",
    "The `precision` is the ratio `tp / (tp + fp)` where `tp` is the number of true positives and `fp` the number of false positives. The precision is intuitively the ability of the classifier not to label as positive a sample that is negative.\n",
    "\n",
    "The `recall` is the ratio `tp / (tp + fn)` where `tp` is the number of true positives and `fn` the number of false negatives. The recall is intuitively the ability of the classifier to find all the positive samples.\n",
    "\n",
    "The `F-beta score` can be interpreted as a weighted harmonic mean of the `precision` and `recall`, where an F-beta score reaches its best value at 1 and the worst score at 0.\n",
    "\n",
    "The `support` is the number of occurrences of each class in the true prediction.\n",
    "\n",
    "Reference: [Classification report](https://towardsdatascience.com/accuracy-precision-recall-or-f1-331fb37c5cb9)"
   ]
  },
  {
   "cell_type": "code",
   "execution_count": 30,
   "metadata": {},
   "outputs": [
    {
     "name": "stdout",
     "output_type": "stream",
     "text": [
      "              precision    recall  f1-score   support\n",
      "\n",
      "          -1       0.34      0.58      0.43        38\n",
      "           0       0.47      0.33      0.39        66\n",
      "           1       0.49      0.40      0.44        42\n",
      "\n",
      "    accuracy                           0.42       146\n",
      "   macro avg       0.43      0.44      0.42       146\n",
      "weighted avg       0.44      0.42      0.42       146\n",
      "\n"
     ]
    }
   ],
   "source": [
    "# Calculate the classification report\n",
    "cr = classification_report(y[split:], y_predict)\n",
    "print(cr)"
   ]
  },
  {
   "cell_type": "code",
   "execution_count": 31,
   "metadata": {},
   "outputs": [
    {
     "data": {
      "image/png": "[encoded data removed]",
      "text/plain": [
       "<Figure size 720x504 with 1 Axes>"
      ]
     },
     "metadata": {
      "needs_background": "light"
     },
     "output_type": "display_data"
    },
    {
     "name": "stdout",
     "output_type": "stream",
     "text": [
      "The maximum drawdown is -0.14%\n"
     ]
    }
   ],
   "source": [
    "\"\"\"\n",
    "The drawdown metrics and plotting is performed here\n",
    "\"\"\"\n",
    "# Calculate the cumulative returns\n",
    "cum_rets = (Df['Ret1'][split:]+1).cumprod()\n",
    "\n",
    "# Calculate the running maximum\n",
    "running_max = np.maximum.accumulate(cum_rets.dropna())\n",
    "\n",
    "# Ensure the value never drops below 1\n",
    "running_max[running_max < 1] = 1\n",
    "\n",
    "# Calculate the percentage drawdown\n",
    "drawdown = (cum_rets)/running_max - 1\n",
    "drawdown.index = cum_rets.index\n",
    "\n",
    "# Calculate the maximum drawdown\n",
    "max_dd = drawdown.min()*100\n",
    "\n",
    "# Plot the drawdown\n",
    "fig, ax = plt.subplots(figsize=(10, 7))\n",
    "ax.plot(drawdown, color='r')\n",
    "ax.fill_between(drawdown.index, drawdown.values, color='red')\n",
    "ax.xaxis.set_major_formatter(mdates.DateFormatter(\"%H:%M:%S\"))\n",
    "ax.xaxis.set_minor_formatter(mdates.DateFormatter(\"%H:%M:%S\"))\n",
    "\n",
    "# Set the font sizes\n",
    "_ = plt.xticks(rotation=45)\n",
    "plt.title('Drawdown for the predicted returns', fontsize=14)\n",
    "plt.xlabel('Time', fontsize=12)\n",
    "plt.ylabel('Drawdown', fontsize=12)\n",
    "plt.xticks(fontsize=12)\n",
    "plt.yticks(fontsize=12)\n",
    "ax.legend(labels=[\"Drawdown\"], prop={'size': 10}, loc=\"lower right\")\n",
    "\n",
    "# Display the plot\n",
    "plt.show()\n",
    "print(\"The maximum drawdown is %.2f\" % max_dd+\"%\")"
   ]
  },
  {
   "cell_type": "code",
   "execution_count": 32,
   "metadata": {},
   "outputs": [
    {
     "name": "stdout",
     "output_type": "stream",
     "text": [
      "The annualised Sharpe ratio is 77.74\n"
     ]
    }
   ],
   "source": [
    "# Calculate the annualised Sharpe ratio\n",
    "sharpe = np.sqrt(252*6.25*60) * \\\n",
    "    Df['Ret1'][split:].mean() / Df['Ret1'][split:].std()\n",
    "\n",
    "print(\"The annualised Sharpe ratio is %.2f\" % sharpe)"
   ]
  },
  {
   "cell_type": "markdown",
   "metadata": {},
   "source": [
    "## Plot the results\n",
    "\n",
    "Now you can plot the results to visualise the performance."
   ]
  },
  {
   "cell_type": "code",
   "execution_count": 33,
   "metadata": {
    "scrolled": false
   },
   "outputs": [
    {
     "data": {
      "image/png": "[encoded data removed]",
      "text/plain": [
       "<Figure size 720x504 with 1 Axes>"
      ]
     },
     "metadata": {
      "needs_background": "light"
     },
     "output_type": "display_data"
    },
    {
     "name": "stdout",
     "output_type": "stream",
     "text": [
      "The strategy return is 1.49%\n"
     ]
    }
   ],
   "source": [
    "# Plotting the returns\n",
    "fig, ax = plt.subplots(figsize=(10, 7))\n",
    "ax.plot((Df['Fut_Ret'][split:]+1).cumprod())\n",
    "ax.plot((Df['Ret1'][split:]+1).cumprod())\n",
    "ax.xaxis.set_major_formatter(mdates.DateFormatter(\"%H:%M:%S\"))\n",
    "ax.xaxis.set_minor_formatter(mdates.DateFormatter(\"%H:%M:%S\"))\n",
    "_ = plt.xticks(rotation=45)\n",
    "\n",
    "# Setting the labels and font sizes\n",
    "plt.title('Strategy Returns vs Market Returns', fontsize=14)\n",
    "plt.xlabel('Time', fontsize=12)\n",
    "plt.ylabel('Cumulative Returns', fontsize=12)\n",
    "plt.xticks(fontsize=12)\n",
    "plt.yticks(fontsize=12)\n",
    "ax.legend(labels=[\"Market Returns\", \"Strategy Returns\"],\n",
    "          prop={'size': 10}, loc=\"upper left\")\n",
    "plt.show()\n",
    "\n",
    "\n",
    "return_strategy = ((Df['Ret1'][split:]+1).cumprod().tail(1)[0]-1)*100\n",
    "print(\"The strategy return is %.2f\" % return_strategy + \"%\")"
   ]
  },
  {
   "cell_type": "markdown",
   "metadata": {},
   "source": [
    "## Now, it's your turn! \n",
    "\n",
    "### Tweak the code\n",
    " \n",
    "You can tweak the code in the following ways:\n",
    "1. Use different data sets: backtest and try out the model on different data sets!\n",
    "2. Features: create your own features using different indicators that could improve the prediction accuracy\n",
    "3. Try different CV splits\n",
    "4. Try Grid Search for best hyperparameters selection. Try different kernels and check for results \n",
    "5. Change the trading strategy as you wish! <br><br>"
   ]
  }
 ],
 "metadata": {
  "anaconda-cloud": {},
  "celltoolbar": "Raw Cell Format",
  "kernelspec": {
   "display_name": "Python 3",
   "language": "python",
   "name": "python3"
  },
  "language_info": {
   "codemirror_mode": {
    "name": "ipython",
    "version": 3
   },
   "file_extension": ".py",
   "mimetype": "text/x-python",
   "name": "python",
   "nbconvert_exporter": "python",
   "pygments_lexer": "ipython3",
   "version": "3.8.8"
  }
 },
 "nbformat": 4,
 "nbformat_minor": 4
}
