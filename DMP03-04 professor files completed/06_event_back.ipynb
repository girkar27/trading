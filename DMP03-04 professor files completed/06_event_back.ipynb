{
 "cells": [
  {
   "cell_type": "markdown",
   "metadata": {},
   "source": [
    "<img src=\"http://certificate.tpq.io/tpq_logo.png\" alt=\"The Python Quants\" width=\"35%\" align=\"right\" border=\"0\"><br>"
   ]
  },
  {
   "cell_type": "markdown",
   "metadata": {},
   "source": [
    "# EPAT Session 2"
   ]
  },
  {
   "cell_type": "markdown",
   "metadata": {},
   "source": [
    "**Executive Program in Algorithmic Trading**\n",
    "\n",
    "**_Event-Based Backtesting_**\n",
    "\n",
    "Prof. Dr. Yves J. Hilpisch | The Python Quants GmbH | http://tpq.io"
   ]
  },
  {
   "cell_type": "markdown",
   "metadata": {},
   "source": [
    "<a href=\"https://home.tpq.io/certificates/pyalgo\" target=\"_blank\"><img src=\"https://hilpisch.com/pyalgo_cover_shadow.png\" width=\"300px\" align=\"left\"></a>"
   ]
  },
  {
   "cell_type": "markdown",
   "metadata": {},
   "source": [
    "## Basic Imports"
   ]
  },
  {
   "cell_type": "code",
   "execution_count": null,
   "metadata": {},
   "outputs": [],
   "source": [
    "import math\n",
    "import numpy as np\n",
    "import pandas as pd\n",
    "from pylab import plt\n",
    "import cufflinks\n",
    "np.set_printoptions(suppress=True)\n",
    "cufflinks.set_config_file(offline=True)\n",
    "plt.style.use('seaborn')\n",
    "pd.set_option('mode.chained_assignment', None)\n",
    "%config InlineBackend.figure_format = 'svg'"
   ]
  },
  {
   "cell_type": "markdown",
   "metadata": {},
   "source": [
    "## Reading Financial Data"
   ]
  },
  {
   "cell_type": "code",
   "execution_count": null,
   "metadata": {},
   "outputs": [],
   "source": [
    "url = 'http://hilpisch.com/pyalgo_eikon_eod_data.csv'  # EOD data\n",
    "# url = 'http://hilpisch.com/aiif_eikon_id_data.csv'  # intraday data"
   ]
  },
  {
   "cell_type": "code",
   "execution_count": null,
   "metadata": {},
   "outputs": [],
   "source": [
    "raw = pd.read_csv(url, index_col=0, parse_dates=True).dropna()"
   ]
  },
  {
   "cell_type": "code",
   "execution_count": null,
   "metadata": {},
   "outputs": [],
   "source": [
    "raw.info()"
   ]
  },
  {
   "cell_type": "code",
   "execution_count": null,
   "metadata": {},
   "outputs": [],
   "source": [
    "rets = np.log(raw / raw.shift(1)).dropna()  # log returns"
   ]
  },
  {
   "cell_type": "markdown",
   "metadata": {},
   "source": [
    "## Event-Based View"
   ]
  },
  {
   "cell_type": "code",
   "execution_count": null,
   "metadata": {},
   "outputs": [],
   "source": [
    "import time"
   ]
  },
  {
   "cell_type": "code",
   "execution_count": null,
   "metadata": {},
   "outputs": [],
   "source": [
    "for bar in range(10):\n",
    "    print(raw.index[bar], raw['AAPL.O'].iloc[bar])\n",
    "    time.sleep(0.5)"
   ]
  },
  {
   "cell_type": "markdown",
   "metadata": {},
   "source": [
    "## `FinancialData` Class"
   ]
  },
  {
   "cell_type": "code",
   "execution_count": null,
   "metadata": {},
   "outputs": [],
   "source": [
    "class FinancialData:\n",
    "    url = 'http://hilpisch.com/pyalgo_eikon_eod_data.csv'\n",
    "    def __init__(self, symbol):\n",
    "        self.symbol = symbol\n",
    "        self.retrieve_data()\n",
    "        self.prepare_data()\n",
    "    def retrieve_data(self):\n",
    "        self.raw = pd.read_csv(self.url, index_col=0,\n",
    "                               parse_dates=True).dropna()\n",
    "    def prepare_data(self):\n",
    "        self.data = pd.DataFrame(self.raw[self.symbol])\n",
    "        self.data['r'] = np.log(self.data[self.symbol] /\n",
    "                               self.data[self.symbol].shift(1))\n",
    "    def plot_data(self, cols=None):\n",
    "        if cols is None:\n",
    "            cols = [self.symbol]\n",
    "        self.data[cols].plot(title=self.symbol)"
   ]
  },
  {
   "cell_type": "markdown",
   "metadata": {},
   "source": [
    "## `BacktestingBase` Class"
   ]
  },
  {
   "cell_type": "markdown",
   "metadata": {},
   "source": [
    "We are going to implement a **base class** for event-based backtesting with:\n",
    "\n",
    "* `__init__`\n",
    "* `retrieve_data` (`FinancialBase`)\n",
    "* `prepare_data` (`FinancialBase`)\n",
    "* `plot_data` (`FinancialBase`)\n",
    "* `get_date_price`\n",
    "* `print_balance`\n",
    "* `print_net_wealth`\n",
    "* `place_buy_order`\n",
    "* `place_sell_order`\n",
    "* `close_out`"
   ]
  },
  {
   "cell_type": "code",
   "execution_count": null,
   "metadata": {},
   "outputs": [],
   "source": [
    "class BacktestBase(FinancialData):\n",
    "    def __init__(self, symbol, amount):\n",
    "        super().__init__(symbol)\n",
    "        self.current_balance = amount\n",
    "        self.initial_amount = amount\n",
    "        self.units = 0\n",
    "        self.trades = 0\n",
    "    def get_date_price(self, bar):\n",
    "        date = str(self.data.index[bar])[:10]\n",
    "        price = self.data[self.symbol].iloc[bar]\n",
    "        return date, price\n",
    "    def print_balance(self, bar):\n",
    "        date, price = self.get_date_price(bar)\n",
    "        print(f'{date} | current balance = {self.current_balance:.2f}')\n",
    "    def print_net_wealth(self, bar):\n",
    "        date, price = self.get_date_price(bar)\n",
    "        net_wealth = self.current_balance + self.units * price\n",
    "        print(f'{date} | net wealth = {net_wealth:.2f}')\n",
    "    def place_buy_order(self, bar, units=None, amount=None):\n",
    "        date, price = self.get_date_price(bar)\n",
    "        if units is None:\n",
    "            units = int(amount / price)\n",
    "        self.current_balance -= units * price\n",
    "        self.units += units\n",
    "        self.trades += 1\n",
    "        print(f'{date} | buying {units} units at {price:.2f}')\n",
    "        self.print_balance(bar)\n",
    "        self.print_net_wealth(bar)\n",
    "        print(50 * '=')\n",
    "    def place_sell_order(self, bar, units=None, amount=None):\n",
    "        date, price = self.get_date_price(bar)\n",
    "        if units is None:\n",
    "            units = int(amount / price)\n",
    "        self.current_balance += units * price\n",
    "        self.units -= units\n",
    "        self.trades += 1\n",
    "        print(f'{date} | selling {units} units at {price:.2f}')\n",
    "        self.print_balance(bar)\n",
    "        self.print_net_wealth(bar)\n",
    "        print(50 * '=')\n",
    "    def close_out(self, bar):\n",
    "        date, price = self.get_date_price(bar)\n",
    "        print('*** CLOSING OUT POSITION ***')\n",
    "        print(50 * '=')\n",
    "        print(f'{date} | closing {self.units} units at {price:.2f}')\n",
    "        self.current_balance += self.units * price\n",
    "        self.units = 0\n",
    "        self.trades += 1\n",
    "        perf = (self.current_balance / self.initial_amount - 1) * 100\n",
    "        print(f'{date} | net return [%] = {perf:.3f}')\n",
    "        print(f'{date} | trades [#] = {self.trades}')\n",
    "        print(50 * '=')"
   ]
  },
  {
   "cell_type": "code",
   "execution_count": null,
   "metadata": {},
   "outputs": [],
   "source": [
    "bb = BacktestBase('EUR=', 10000)"
   ]
  },
  {
   "cell_type": "code",
   "execution_count": null,
   "metadata": {},
   "outputs": [],
   "source": [
    "bb.get_date_price(bar=100)"
   ]
  },
  {
   "cell_type": "code",
   "execution_count": null,
   "metadata": {},
   "outputs": [],
   "source": [
    "bb.print_balance(100)"
   ]
  },
  {
   "cell_type": "code",
   "execution_count": null,
   "metadata": {},
   "outputs": [],
   "source": [
    "bb.place_buy_order(150, units=5000)"
   ]
  },
  {
   "cell_type": "code",
   "execution_count": null,
   "metadata": {},
   "outputs": [],
   "source": [
    "# bb.print_balance(150)"
   ]
  },
  {
   "cell_type": "code",
   "execution_count": null,
   "metadata": {},
   "outputs": [],
   "source": [
    "# bb.print_net_wealth(150)"
   ]
  },
  {
   "cell_type": "code",
   "execution_count": null,
   "metadata": {},
   "outputs": [],
   "source": [
    "bb.print_net_wealth(200)"
   ]
  },
  {
   "cell_type": "code",
   "execution_count": null,
   "metadata": {},
   "outputs": [],
   "source": [
    "bb.units"
   ]
  },
  {
   "cell_type": "code",
   "execution_count": null,
   "metadata": {},
   "outputs": [],
   "source": [
    "bb.place_sell_order(250, units=2500)"
   ]
  },
  {
   "cell_type": "code",
   "execution_count": null,
   "metadata": {},
   "outputs": [],
   "source": [
    "# bb.print_balance(250)"
   ]
  },
  {
   "cell_type": "code",
   "execution_count": null,
   "metadata": {},
   "outputs": [],
   "source": [
    "# bb.print_net_wealth(250)"
   ]
  },
  {
   "cell_type": "code",
   "execution_count": null,
   "metadata": {},
   "outputs": [],
   "source": [
    "bb.units"
   ]
  },
  {
   "cell_type": "code",
   "execution_count": null,
   "metadata": {},
   "outputs": [],
   "source": [
    "bb.close_out(1000)"
   ]
  },
  {
   "cell_type": "markdown",
   "metadata": {},
   "source": [
    "## `SMABacktester` Class"
   ]
  },
  {
   "cell_type": "code",
   "execution_count": null,
   "metadata": {},
   "outputs": [],
   "source": [
    "class SMABacktester(BacktestBase):\n",
    "    def prepare_statistics(self):\n",
    "        self.data['SMA1'] = self.data[self.symbol].rolling(self.SMA1).mean()\n",
    "        self.data['SMA2'] = self.data[self.symbol].rolling(self.SMA2).mean()\n",
    "        self.data['SIG'] = np.where(self.data['SMA1'] > self.data['SMA2'], 1, -1)\n",
    "    def backtest_strategy(self, SMA1, SMA2):\n",
    "        self.SMA1 = SMA1\n",
    "        self.SMA2 = SMA2\n",
    "        self.prepare_statistics()\n",
    "        print(50 * '=')\n",
    "        print('*** STARTING BACKTEST ***')\n",
    "        print(f'SYM={self.symbol} | SMA1={self.SMA1} | SMA2={self.SMA2}')\n",
    "        print(50 * '=')\n",
    "        self.units = 0\n",
    "        self.trades = 0\n",
    "        self.position = 0\n",
    "        for bar in range(self.SMA2, len(self.data)):\n",
    "            if self.position in [0, -1] and self.data['SIG'].iloc[bar] == 1:\n",
    "                # enter long position\n",
    "                # ... add some more trading logic here\n",
    "                self.place_buy_order(bar, units=(1 - self.position) * 100)\n",
    "                self.position = 1\n",
    "            if self.position in [0, 1] and self.data['SIG'].iloc[bar] == -1:\n",
    "                # enter short position\n",
    "                # ... add some more trading logic here\n",
    "                self.place_sell_order(bar, units=(1 + self.position) * 100)\n",
    "                self.position = -1\n",
    "        self.close_out(bar)"
   ]
  },
  {
   "cell_type": "code",
   "execution_count": null,
   "metadata": {},
   "outputs": [],
   "source": [
    "sma = SMABacktester('AAPL.O', 10000)"
   ]
  },
  {
   "cell_type": "code",
   "execution_count": null,
   "metadata": {},
   "outputs": [],
   "source": [
    "sma.backtest_strategy(42, 252)"
   ]
  },
  {
   "cell_type": "markdown",
   "metadata": {},
   "source": [
    "<img src=\"http://certificate.tpq.io/tpq_logo.png\" alt=\"The Python Quants\" width=\"35%\" align=\"right\" border=\"0\"><br>"
   ]
  }
 ],
 "metadata": {
  "kernelspec": {
   "display_name": "Python 3",
   "language": "python",
   "name": "python3"
  },
  "language_info": {
   "codemirror_mode": {
    "name": "ipython",
    "version": 3
   },
   "file_extension": ".py",
   "mimetype": "text/x-python",
   "name": "python",
   "nbconvert_exporter": "python",
   "pygments_lexer": "ipython3",
   "version": "3.8.8"
  }
 },
 "nbformat": 4,
 "nbformat_minor": 4
}
